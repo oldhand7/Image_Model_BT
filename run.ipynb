!pip install pygit2==1.12.2
%cd /content
!git clone https://github.com/oldhand7/Image_Model_BT.git
%cd /content/gradio_work
!python entry_with_update.py --share